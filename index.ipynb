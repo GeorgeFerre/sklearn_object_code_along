{
 "cells": [
  {
   "cell_type": "code",
   "execution_count": null,
   "id": "substantial-drama",
   "metadata": {},
   "outputs": [],
   "source": [
    "import pandas as pd\n",
    "import numpy as np"
   ]
  },
  {
   "cell_type": "code",
   "execution_count": null,
   "id": "grateful-bruce",
   "metadata": {},
   "outputs": [],
   "source": [
    "columns = [\"parents\", \"has_nurs\", \"form\", \"children\",\n",
    "           \"housing\", \"finance\", \"social\", \"health\", \n",
    "           \"target\"]"
   ]
  },
  {
   "cell_type": "code",
   "execution_count": null,
   "id": "atlantic-kruger",
   "metadata": {},
   "outputs": [],
   "source": [
    "# Import Dataset\n",
    "df = pd.read_csv('data/nursery.data', names=columns )\n",
    "df.head()"
   ]
  },
  {
   "cell_type": "code",
   "execution_count": null,
   "id": "through-basement",
   "metadata": {},
   "outputs": [],
   "source": [
    "# Describe Shape\n"
   ]
  },
  {
   "cell_type": "code",
   "execution_count": null,
   "id": "offshore-milton",
   "metadata": {},
   "outputs": [],
   "source": [
    "# Identify Target\n"
   ]
  },
  {
   "cell_type": "code",
   "execution_count": null,
   "id": "surface-relation",
   "metadata": {},
   "outputs": [],
   "source": [
    "# Inspect class balance\n"
   ]
  },
  {
   "cell_type": "code",
   "execution_count": null,
   "id": "paperback-albuquerque",
   "metadata": {},
   "outputs": [],
   "source": [
    "# Split target from predictors\n",
    "\n",
    "X = None\n",
    "y = None"
   ]
  },
  {
   "cell_type": "code",
   "execution_count": null,
   "id": "enabling-consumption",
   "metadata": {},
   "outputs": [],
   "source": [
    "# Train-Test Split with 20% test set, random state 42\n",
    "\n",
    "from sklearn.model_selection import train_test_split\n",
    "\n",
    "X_train, X_test, y_train, y_test = None"
   ]
  },
  {
   "cell_type": "markdown",
   "id": "central-arrangement",
   "metadata": {},
   "source": [
    "Let's set X_test, y_test aside and not touch it until the end."
   ]
  },
  {
   "cell_type": "markdown",
   "id": "operating-shipping",
   "metadata": {},
   "source": [
    "We will build our model on X_train, y_train exclusively."
   ]
  },
  {
   "cell_type": "markdown",
   "id": "spare-fifth",
   "metadata": {},
   "source": [
    "Perform a secondary train-test split with the same proportion of test size on the train set (.20) and random state 42.\n",
    "\n",
    "starter code:  \n",
    "`X_t, X_val, y_t, v_val = `"
   ]
  },
  {
   "cell_type": "code",
   "execution_count": null,
   "id": "charitable-button",
   "metadata": {},
   "outputs": [],
   "source": [
    "# Your code here"
   ]
  },
  {
   "cell_type": "markdown",
   "id": "embedded-duplicate",
   "metadata": {},
   "source": [
    "Fit a one hot encoder on the X_t set."
   ]
  },
  {
   "cell_type": "code",
   "execution_count": null,
   "id": "offensive-jamaica",
   "metadata": {},
   "outputs": [],
   "source": [
    "from sklearn.preprocessing import OneHotEncoder\n",
    "\n",
    "# instantiate instance. Do not drop first here. Make sparse = False\n",
    "ohe = None"
   ]
  },
  {
   "cell_type": "code",
   "execution_count": null,
   "id": "recreational-saskatchewan",
   "metadata": {},
   "outputs": [],
   "source": [
    "# Fit ohe to X_t"
   ]
  },
  {
   "cell_type": "code",
   "execution_count": null,
   "id": "recreational-scott",
   "metadata": {},
   "outputs": [],
   "source": [
    "# transform X_t \n",
    "X_t_ohe = None\n",
    "\n",
    "# Convert to dataframe with columns and indices reinstated\n",
    "X_t_ohe = pd.DataFrame()\n",
    "\n",
    "# hint: use ohe.get_feature_names() as well as X_t.index"
   ]
  },
  {
   "cell_type": "code",
   "execution_count": null,
   "id": "covered-increase",
   "metadata": {},
   "outputs": [],
   "source": [
    "# Transform X_val\n",
    "X_val_ohe = None"
   ]
  },
  {
   "cell_type": "code",
   "execution_count": null,
   "id": "provincial-preference",
   "metadata": {},
   "outputs": [],
   "source": [
    "# Convert to dataFrame and reattach column names and indices\n",
    "X_val_ohe = None"
   ]
  },
  {
   "cell_type": "code",
   "execution_count": null,
   "id": "comprehensive-monroe",
   "metadata": {},
   "outputs": [],
   "source": [
    "# Fit a decision tree and score it on both X_t and X_val"
   ]
  },
  {
   "cell_type": "code",
   "execution_count": null,
   "id": "cellular-bhutan",
   "metadata": {},
   "outputs": [],
   "source": [
    "from sklearn.tree import DecisionTreeClassifier\n",
    "\n",
    "df = DecisionTreeClassifier()\n",
    "df.fit(<fill_in>)\n",
    "df.score(<fill_in>)"
   ]
  },
  {
   "cell_type": "code",
   "execution_count": null,
   "id": "marked-vaccine",
   "metadata": {},
   "outputs": [],
   "source": [
    "# Score on validation set\n",
    "df.score(<fill_in>)"
   ]
  },
  {
   "cell_type": "code",
   "execution_count": null,
   "id": "tracked-chicago",
   "metadata": {},
   "outputs": [],
   "source": [
    "# Preprocesses entire training set as one unit \n",
    "# (i.e. fit ohe on X_train and convert to Dataframe)\n",
    "\n",
    "X_train_ohe = None\n",
    "                   \n"
   ]
  },
  {
   "cell_type": "code",
   "execution_count": null,
   "id": "mobile-skill",
   "metadata": {},
   "outputs": [],
   "source": [
    "# Fit to entire training set\n",
    "from sklearn.tree import DecisionTreeClassifier\n",
    "\n",
    "df = DecisionTreeClassifier()\n",
    "df.fit(<fill_in>)\n",
    "df.score(<fill_in>)"
   ]
  },
  {
   "cell_type": "code",
   "execution_count": null,
   "id": "likely-peace",
   "metadata": {},
   "outputs": [],
   "source": [
    "# Preprocesses entire test set (i.e. use ohe to transform entire test set )\n",
    "\n",
    "X_test_ohe = None"
   ]
  },
  {
   "cell_type": "code",
   "execution_count": null,
   "id": "periodic-hunter",
   "metadata": {},
   "outputs": [],
   "source": [
    "# Score test set"
   ]
  }
 ],
 "metadata": {
  "kernelspec": {
   "display_name": "learn-env",
   "language": "python",
   "name": "learn-env"
  },
  "language_info": {
   "codemirror_mode": {
    "name": "ipython",
    "version": 3
   },
   "file_extension": ".py",
   "mimetype": "text/x-python",
   "name": "python",
   "nbconvert_exporter": "python",
   "pygments_lexer": "ipython3",
   "version": "3.7.3"
  }
 },
 "nbformat": 4,
 "nbformat_minor": 5
}
